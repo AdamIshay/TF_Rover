{
 "cells": [
  {
   "cell_type": "code",
   "execution_count": null,
   "metadata": {
    "collapsed": true
   },
   "outputs": [],
   "source": [
    "%matplotlib inline\n",
    "import matplotlib.pyplot as plt\n",
    "import cv2\n",
    "import numpy as np\n",
    "from scipy.misc import imread\n",
    "from scipy.io import loadmat\n",
    "import os, sys\n",
    "import glob"
   ]
  },
  {
   "cell_type": "code",
   "execution_count": null,
   "metadata": {},
   "outputs": [],
   "source": [
    "# load a picture of the empty track\n",
    "track = loadmat('track.mat')\n",
    "track = track['video']\n",
    "track = track[13, 100:457, :480, :]\n",
    "track2 = track.copy()\n",
    "\n",
    "vids = glob.glob('*.mat')\n",
    "\n",
    "for vid in vids:\n",
    "    # load the test video and do some pre-processing\n",
    "    videofile = loadmat(vid)\n",
    "    videofile = videofile['video']\n",
    "    videofile = np.mean(videofile[40:, 100:457, :480, :], 3)\n",
    "\n",
    "    oldm = 0\n",
    "    oldn = 0\n",
    "    steps = 0\n",
    "\n",
    "\n",
    "    for i in range(videofile.shape[0]-1):\n",
    "        diff = videofile[i, ...] - videofile[i+1, ...]\n",
    "        diff = np.uint8(diff > 16) * 255\n",
    "\n",
    "        contours, _ = cv2.findContours(diff.copy(), 1, 2)\n",
    "        c = max(contours, key = cv2.contourArea)\n",
    "        x,y,w,h = cv2.boundingRect(c)\n",
    "        m = np.int32(y+h/2)\n",
    "        n = np.int32(x+w/2)\n",
    "    \n",
    "    #track[m-1:m+1, n-1:n+1, 1] = 255\n",
    "    \n",
    "        if oldm != 0:\n",
    "            cv2.line(track2, (oldn, oldm), (n, m), (0, 255, 0))\n",
    "        else: first_m, first_n = m, n\n",
    "        \n",
    "        if np.abs(m-first_m) <= 10 and np.abs(n - first_n) <= 15:\n",
    "            if steps > 20:\n",
    "                break\n",
    "        \n",
    "        oldm, oldn = m, n\n",
    "        steps += 1\n",
    "\n",
    "\n",
    "fig = plt.figure(figsize=[16, 16])\n",
    "a2 = fig.add_subplot(111)\n",
    "a2.imshow(track2)\n",
    "a2.axis('off')\n",
    "plt.show()"
   ]
  },
  {
   "cell_type": "code",
   "execution_count": null,
   "metadata": {
    "collapsed": true
   },
   "outputs": [],
   "source": []
  },
  {
   "cell_type": "code",
   "execution_count": null,
   "metadata": {
    "collapsed": true
   },
   "outputs": [],
   "source": []
  }
 ],
 "metadata": {
  "kernelspec": {
   "display_name": "Python 2",
   "language": "python",
   "name": "python2"
  },
  "language_info": {
   "codemirror_mode": {
    "name": "ipython",
    "version": 2
   },
   "file_extension": ".py",
   "mimetype": "text/x-python",
   "name": "python",
   "nbconvert_exporter": "python",
   "pygments_lexer": "ipython2",
   "version": "2.7.12"
  }
 },
 "nbformat": 4,
 "nbformat_minor": 2
}
